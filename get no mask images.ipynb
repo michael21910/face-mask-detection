{
 "cells": [
  {
   "cell_type": "code",
   "execution_count": null,
   "id": "85ea2fec",
   "metadata": {},
   "outputs": [],
   "source": [
    "import pyscreenshot as ImageGrab\n",
    "from selenium import webdriver\n",
    "import time\n",
    "\n",
    "import warnings\n",
    "warnings.filterwarnings(\"ignore\")\n",
    "\n",
    "browser = webdriver.Chrome(r'C:\\Users\\tsuenhsueh\\IPYNBs\\chromedriver.exe')\n",
    "for i in range(1, 101, 1):\n",
    "    if i == 1:\n",
    "        browser.get('https://thispersondoesnotexist.com/image')\n",
    "        browser.maximize_window()\n",
    "    image = ImageGrab.grab(bbox = (498, 115, 1423, 1040))\n",
    "    image.save(\"noMask/noMask\" + str(i) + \".jpg\")\n",
    "    browser.refresh()\n",
    "browser.close()"
   ]
  }
 ],
 "metadata": {
  "kernelspec": {
   "display_name": "Python 3",
   "language": "python",
   "name": "python3"
  },
  "language_info": {
   "codemirror_mode": {
    "name": "ipython",
    "version": 3
   },
   "file_extension": ".py",
   "mimetype": "text/x-python",
   "name": "python",
   "nbconvert_exporter": "python",
   "pygments_lexer": "ipython3",
   "version": "3.8.8"
  }
 },
 "nbformat": 4,
 "nbformat_minor": 5
}
