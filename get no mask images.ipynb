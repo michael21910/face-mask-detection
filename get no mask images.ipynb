{
 "cells": [
  {
   "cell_type": "code",
   "execution_count": 9,
   "id": "42dde0e6",
   "metadata": {},
   "outputs": [],
   "source": [
    "import requests\n",
    "from bs4 import BeautifulSoup\n",
    "\n",
    "html = requests.get('https://thispersondoesnotexist.com/image')\n",
    "html.encoding = 'utf-8'\n",
    "sp = BeautifulSoup(html.text, 'lxml')\n",
    "print(sp.prettify())"
   ]
  },
  {
   "cell_type": "code",
   "execution_count": 34,
   "id": "85ea2fec",
   "metadata": {},
   "outputs": [
    {
     "name": "stdout",
     "output_type": "stream",
     "text": [
      "1 2 3 4 5 6 7 8 9 10 11 12 13 14 15 16 17 18 19 20 21 22 23 24 25 26 27 28 29 30 31 32 33 34 35 36 37 38 39 40 41 42 43 44 45 46 47 48 49 50 51 52 53 54 55 56 57 58 59 60 61 62 63 64 65 66 67 68 69 70 71 72 73 74 75 76 77 78 79 80 81 82 83 84 85 86 87 88 89 90 91 92 93 94 95 96 97 98 99 100 "
     ]
    }
   ],
   "source": [
    "import pyscreenshot as ImageGrab\n",
    "from selenium import webdriver\n",
    "import time\n",
    "\n",
    "import warnings\n",
    "warnings.filterwarnings(\"ignore\")\n",
    "\n",
    "browser = webdriver.Chrome(r'C:\\Users\\tsuenhsueh\\IPYNBs\\chromedriver.exe')\n",
    "for i in range(1, 101, 1):\n",
    "    if i == 1:\n",
    "        browser.get('https://thispersondoesnotexist.com/image')\n",
    "        browser.maximize_window()\n",
    "    image = ImageGrab.grab(bbox = (498, 115, 1423, 1040))\n",
    "    image.save(\"noMask/noMask\" + str(i) + \".jpg\")\n",
    "    browser.refresh()\n",
    "browser.close()"
   ]
  }
 ],
 "metadata": {
  "kernelspec": {
   "display_name": "Python 3",
   "language": "python",
   "name": "python3"
  },
  "language_info": {
   "codemirror_mode": {
    "name": "ipython",
    "version": 3
   },
   "file_extension": ".py",
   "mimetype": "text/x-python",
   "name": "python",
   "nbconvert_exporter": "python",
   "pygments_lexer": "ipython3",
   "version": "3.8.8"
  }
 },
 "nbformat": 4,
 "nbformat_minor": 5
}
